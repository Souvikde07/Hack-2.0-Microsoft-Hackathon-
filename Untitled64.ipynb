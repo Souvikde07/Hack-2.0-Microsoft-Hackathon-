{
  "nbformat": 4,
  "nbformat_minor": 0,
  "metadata": {
    "colab": {
      "name": "Untitled64.ipynb",
      "version": "0.3.2",
      "provenance": [],
      "include_colab_link": true
    },
    "kernelspec": {
      "name": "python3",
      "display_name": "Python 3"
    }
  },
  "cells": [
    {
      "cell_type": "markdown",
      "metadata": {
        "id": "view-in-github",
        "colab_type": "text"
      },
      "source": [
        "<a href=\"https://colab.research.google.com/github/Pranjulcr7/data/blob/master/Untitled64.ipynb\" target=\"_parent\"><img src=\"https://colab.research.google.com/assets/colab-badge.svg\" alt=\"Open In Colab\"/></a>"
      ]
    },
    {
      "cell_type": "code",
      "metadata": {
        "id": "HESVAZat_Kgd",
        "colab_type": "code",
        "colab": {}
      },
      "source": [
        "import pandas as pd\n",
        "import numpy as np\n",
        "import matplotlib.pyplot as plt\n",
        "import tweepy as tp\n",
        "import textblob as tb\n",
        "from googletrans import Translator"
      ],
      "execution_count": 0,
      "outputs": []
    },
    {
      "cell_type": "code",
      "metadata": {
        "id": "6d9wCXZB_UkA",
        "colab_type": "code",
        "colab": {}
      },
      "source": [
        "c_k = 'PEB872RHdEWndFzaBKUcPoz2x'\n",
        "c_s = 'nM7KaaR77VZHWiCvH7vFFBIwl3kkMSm3qb3g47MJdlksYr5GBP'\n",
        "a_t = '1172587381523808256-vHysKDwIPdRD6OEbrZWKbYdzHzaAGb'\n",
        "a_s = 'RpRtRUtxHCZ9WTKLOWaMMj1FNE7tihajC8ZHLkFkiIyTb'"
      ],
      "execution_count": 0,
      "outputs": []
    },
    {
      "cell_type": "code",
      "metadata": {
        "id": "1pik3HpzH8dy",
        "colab_type": "code",
        "colab": {
          "base_uri": "https://localhost:8080/",
          "height": 34
        },
        "outputId": "f03eaa46-aafa-4108-bfc4-c2e636ab95b0"
      },
      "source": [
        "translator = Translator()\n",
        "t = translator.translate(\"삼성전자, 내달 ‘삼성 협력회사 채용 한마당’ 개최\")\n",
        "t.text"
      ],
      "execution_count": 34,
      "outputs": [
        {
          "output_type": "execute_result",
          "data": {
            "text/plain": [
              "\"Samsung Electronics to Hold 'Samsung Partner Jobs'\""
            ]
          },
          "metadata": {
            "tags": []
          },
          "execution_count": 34
        }
      ]
    },
    {
      "cell_type": "code",
      "metadata": {
        "id": "SIardWN-AGol",
        "colab_type": "code",
        "colab": {}
      },
      "source": [
        "auth = tp.OAuthHandler(c_k, c_s)\n",
        "auth.set_access_token(a_t, a_s)"
      ],
      "execution_count": 0,
      "outputs": []
    },
    {
      "cell_type": "code",
      "metadata": {
        "id": "pHEK7nrVAnn0",
        "colab_type": "code",
        "colab": {}
      },
      "source": [
        "api = tp.API( auth)"
      ],
      "execution_count": 0,
      "outputs": []
    },
    {
      "cell_type": "code",
      "metadata": {
        "id": "OfphL58kAsOj",
        "colab_type": "code",
        "colab": {}
      },
      "source": [
        "sam_tweets = api.search(\"#samsung\")"
      ],
      "execution_count": 0,
      "outputs": []
    },
    {
      "cell_type": "code",
      "metadata": {
        "id": "Si8JZbS3BnjC",
        "colab_type": "code",
        "colab": {
          "base_uri": "https://localhost:8080/",
          "height": 54
        },
        "outputId": "c8b4b4ad-4c78-4662-805b-9069babe00c4"
      },
      "source": [
        "sam_tweets[0]"
      ],
      "execution_count": 40,
      "outputs": [
        {
          "output_type": "execute_result",
          "data": {
            "text/plain": [
              "Status(_api=<tweepy.api.API object at 0x7ff5219df978>, _json={'created_at': 'Sat Sep 14 17:20:19 +0000 2019', 'id': 1172923041665474565, 'id_str': '1172923041665474565', 'text': 'RT @subbytech: 🗣️This weekend is the last day to get our range of premium nylon braided charging cables for just £3.99+p&amp;p. 🗣️\\nLaunch price…', 'truncated': False, 'entities': {'hashtags': [], 'symbols': [], 'user_mentions': [{'screen_name': 'subbytech', 'name': 'subbytech', 'id': 1005839992965431296, 'id_str': '1005839992965431296', 'indices': [3, 13]}], 'urls': []}, 'metadata': {'iso_language_code': 'en', 'result_type': 'recent'}, 'source': '<a href=\"http://twitter.com/download/iphone\" rel=\"nofollow\">Twitter for iPhone</a>', 'in_reply_to_status_id': None, 'in_reply_to_status_id_str': None, 'in_reply_to_user_id': None, 'in_reply_to_user_id_str': None, 'in_reply_to_screen_name': None, 'user': {'id': 885898161381937152, 'id_str': '885898161381937152', 'name': 'Diversity Designs™️', 'screen_name': 'Busylifeandme', 'location': 'Rotherham, England', 'description': '#WOW and #Creativebiz award winner. Running mum and support team Dad on a mission to promote inspiring/empowering images of everyone who runs.', 'url': 'https://t.co/k9WnDZcioY', 'entities': {'url': {'urls': [{'url': 'https://t.co/k9WnDZcioY', 'expanded_url': 'http://busy-life.co.uk', 'display_url': 'busy-life.co.uk', 'indices': [0, 23]}]}, 'description': {'urls': []}}, 'protected': False, 'followers_count': 613, 'friends_count': 802, 'listed_count': 2, 'created_at': 'Fri Jul 14 16:25:55 +0000 2017', 'favourites_count': 10023, 'utc_offset': None, 'time_zone': None, 'geo_enabled': True, 'verified': False, 'statuses_count': 2220, 'lang': None, 'contributors_enabled': False, 'is_translator': False, 'is_translation_enabled': False, 'profile_background_color': 'F5F8FA', 'profile_background_image_url': None, 'profile_background_image_url_https': None, 'profile_background_tile': False, 'profile_image_url': 'http://pbs.twimg.com/profile_images/1172462877233602560/nws5oDz9_normal.jpg', 'profile_image_url_https': 'https://pbs.twimg.com/profile_images/1172462877233602560/nws5oDz9_normal.jpg', 'profile_banner_url': 'https://pbs.twimg.com/profile_banners/885898161381937152/1565693731', 'profile_link_color': '1DA1F2', 'profile_sidebar_border_color': 'C0DEED', 'profile_sidebar_fill_color': 'DDEEF6', 'profile_text_color': '333333', 'profile_use_background_image': True, 'has_extended_profile': True, 'default_profile': True, 'default_profile_image': False, 'following': False, 'follow_request_sent': False, 'notifications': False, 'translator_type': 'none'}, 'geo': None, 'coordinates': None, 'place': None, 'contributors': None, 'retweeted_status': {'created_at': 'Sat Sep 14 07:40:25 +0000 2019', 'id': 1172777103718309889, 'id_str': '1172777103718309889', 'text': '🗣️This weekend is the last day to get our range of premium nylon braided charging cables for just £3.99+p&amp;p. 🗣️\\nLau… https://t.co/uN3fcQ8Hns', 'truncated': True, 'entities': {'hashtags': [], 'symbols': [], 'user_mentions': [], 'urls': [{'url': 'https://t.co/uN3fcQ8Hns', 'expanded_url': 'https://twitter.com/i/web/status/1172777103718309889', 'display_url': 'twitter.com/i/web/status/1…', 'indices': [121, 144]}]}, 'metadata': {'iso_language_code': 'en', 'result_type': 'recent'}, 'source': '<a href=\"http://twitter.com/download/android\" rel=\"nofollow\">Twitter for Android</a>', 'in_reply_to_status_id': None, 'in_reply_to_status_id_str': None, 'in_reply_to_user_id': None, 'in_reply_to_user_id_str': None, 'in_reply_to_screen_name': None, 'user': {'id': 1005839992965431296, 'id_str': '1005839992965431296', 'name': 'subbytech', 'screen_name': 'subbytech', 'location': 'Northern Ireland', 'description': 'Helping keep you powered up all day. Stop running out of battery, free yourself from the wall socket! These are not available in any shops 😍 🔋', 'url': 'https://t.co/gllDdRlNWW', 'entities': {'url': {'urls': [{'url': 'https://t.co/gllDdRlNWW', 'expanded_url': 'http://www.subbytech.com', 'display_url': 'subbytech.com', 'indices': [0, 23]}]}, 'description': {'urls': []}}, 'protected': False, 'followers_count': 1807, 'friends_count': 1396, 'listed_count': 8, 'created_at': 'Sun Jun 10 15:51:56 +0000 2018', 'favourites_count': 2380, 'utc_offset': None, 'time_zone': None, 'geo_enabled': False, 'verified': False, 'statuses_count': 4294, 'lang': None, 'contributors_enabled': False, 'is_translator': False, 'is_translation_enabled': False, 'profile_background_color': '000000', 'profile_background_image_url': 'http://abs.twimg.com/images/themes/theme1/bg.png', 'profile_background_image_url_https': 'https://abs.twimg.com/images/themes/theme1/bg.png', 'profile_background_tile': False, 'profile_image_url': 'http://pbs.twimg.com/profile_images/1139825245576204288/jKbb7MNo_normal.png', 'profile_image_url_https': 'https://pbs.twimg.com/profile_images/1139825245576204288/jKbb7MNo_normal.png', 'profile_banner_url': 'https://pbs.twimg.com/profile_banners/1005839992965431296/1567849196', 'profile_link_color': '1B95E0', 'profile_sidebar_border_color': '000000', 'profile_sidebar_fill_color': '000000', 'profile_text_color': '000000', 'profile_use_background_image': False, 'has_extended_profile': True, 'default_profile': False, 'default_profile_image': False, 'following': False, 'follow_request_sent': False, 'notifications': False, 'translator_type': 'none'}, 'geo': None, 'coordinates': None, 'place': None, 'contributors': None, 'is_quote_status': False, 'retweet_count': 2, 'favorite_count': 2, 'favorited': False, 'retweeted': False, 'possibly_sensitive': False, 'lang': 'en'}, 'is_quote_status': False, 'retweet_count': 2, 'favorite_count': 0, 'favorited': False, 'retweeted': False, 'lang': 'en'}, created_at=datetime.datetime(2019, 9, 14, 17, 20, 19), id=1172923041665474565, id_str='1172923041665474565', text='RT @subbytech: 🗣️This weekend is the last day to get our range of premium nylon braided charging cables for just £3.99+p&amp;p. 🗣️\\nLaunch price…', truncated=False, entities={'hashtags': [], 'symbols': [], 'user_mentions': [{'screen_name': 'subbytech', 'name': 'subbytech', 'id': 1005839992965431296, 'id_str': '1005839992965431296', 'indices': [3, 13]}], 'urls': []}, metadata={'iso_language_code': 'en', 'result_type': 'recent'}, source='Twitter for iPhone', source_url='http://twitter.com/download/iphone', in_reply_to_status_id=None, in_reply_to_status_id_str=None, in_reply_to_user_id=None, in_reply_to_user_id_str=None, in_reply_to_screen_name=None, author=User(_api=<tweepy.api.API object at 0x7ff5219df978>, _json={'id': 885898161381937152, 'id_str': '885898161381937152', 'name': 'Diversity Designs™️', 'screen_name': 'Busylifeandme', 'location': 'Rotherham, England', 'description': '#WOW and #Creativebiz award winner. Running mum and support team Dad on a mission to promote inspiring/empowering images of everyone who runs.', 'url': 'https://t.co/k9WnDZcioY', 'entities': {'url': {'urls': [{'url': 'https://t.co/k9WnDZcioY', 'expanded_url': 'http://busy-life.co.uk', 'display_url': 'busy-life.co.uk', 'indices': [0, 23]}]}, 'description': {'urls': []}}, 'protected': False, 'followers_count': 613, 'friends_count': 802, 'listed_count': 2, 'created_at': 'Fri Jul 14 16:25:55 +0000 2017', 'favourites_count': 10023, 'utc_offset': None, 'time_zone': None, 'geo_enabled': True, 'verified': False, 'statuses_count': 2220, 'lang': None, 'contributors_enabled': False, 'is_translator': False, 'is_translation_enabled': False, 'profile_background_color': 'F5F8FA', 'profile_background_image_url': None, 'profile_background_image_url_https': None, 'profile_background_tile': False, 'profile_image_url': 'http://pbs.twimg.com/profile_images/1172462877233602560/nws5oDz9_normal.jpg', 'profile_image_url_https': 'https://pbs.twimg.com/profile_images/1172462877233602560/nws5oDz9_normal.jpg', 'profile_banner_url': 'https://pbs.twimg.com/profile_banners/885898161381937152/1565693731', 'profile_link_color': '1DA1F2', 'profile_sidebar_border_color': 'C0DEED', 'profile_sidebar_fill_color': 'DDEEF6', 'profile_text_color': '333333', 'profile_use_background_image': True, 'has_extended_profile': True, 'default_profile': True, 'default_profile_image': False, 'following': False, 'follow_request_sent': False, 'notifications': False, 'translator_type': 'none'}, id=885898161381937152, id_str='885898161381937152', name='Diversity Designs™️', screen_name='Busylifeandme', location='Rotherham, England', description='#WOW and #Creativebiz award winner. Running mum and support team Dad on a mission to promote inspiring/empowering images of everyone who runs.', url='https://t.co/k9WnDZcioY', entities={'url': {'urls': [{'url': 'https://t.co/k9WnDZcioY', 'expanded_url': 'http://busy-life.co.uk', 'display_url': 'busy-life.co.uk', 'indices': [0, 23]}]}, 'description': {'urls': []}}, protected=False, followers_count=613, friends_count=802, listed_count=2, created_at=datetime.datetime(2017, 7, 14, 16, 25, 55), favourites_count=10023, utc_offset=None, time_zone=None, geo_enabled=True, verified=False, statuses_count=2220, lang=None, contributors_enabled=False, is_translator=False, is_translation_enabled=False, profile_background_color='F5F8FA', profile_background_image_url=None, profile_background_image_url_https=None, profile_background_tile=False, profile_image_url='http://pbs.twimg.com/profile_images/1172462877233602560/nws5oDz9_normal.jpg', profile_image_url_https='https://pbs.twimg.com/profile_images/1172462877233602560/nws5oDz9_normal.jpg', profile_banner_url='https://pbs.twimg.com/profile_banners/885898161381937152/1565693731', profile_link_color='1DA1F2', profile_sidebar_border_color='C0DEED', profile_sidebar_fill_color='DDEEF6', profile_text_color='333333', profile_use_background_image=True, has_extended_profile=True, default_profile=True, default_profile_image=False, following=False, follow_request_sent=False, notifications=False, translator_type='none'), user=User(_api=<tweepy.api.API object at 0x7ff5219df978>, _json={'id': 885898161381937152, 'id_str': '885898161381937152', 'name': 'Diversity Designs™️', 'screen_name': 'Busylifeandme', 'location': 'Rotherham, England', 'description': '#WOW and #Creativebiz award winner. Running mum and support team Dad on a mission to promote inspiring/empowering images of everyone who runs.', 'url': 'https://t.co/k9WnDZcioY', 'entities': {'url': {'urls': [{'url': 'https://t.co/k9WnDZcioY', 'expanded_url': 'http://busy-life.co.uk', 'display_url': 'busy-life.co.uk', 'indices': [0, 23]}]}, 'description': {'urls': []}}, 'protected': False, 'followers_count': 613, 'friends_count': 802, 'listed_count': 2, 'created_at': 'Fri Jul 14 16:25:55 +0000 2017', 'favourites_count': 10023, 'utc_offset': None, 'time_zone': None, 'geo_enabled': True, 'verified': False, 'statuses_count': 2220, 'lang': None, 'contributors_enabled': False, 'is_translator': False, 'is_translation_enabled': False, 'profile_background_color': 'F5F8FA', 'profile_background_image_url': None, 'profile_background_image_url_https': None, 'profile_background_tile': False, 'profile_image_url': 'http://pbs.twimg.com/profile_images/1172462877233602560/nws5oDz9_normal.jpg', 'profile_image_url_https': 'https://pbs.twimg.com/profile_images/1172462877233602560/nws5oDz9_normal.jpg', 'profile_banner_url': 'https://pbs.twimg.com/profile_banners/885898161381937152/1565693731', 'profile_link_color': '1DA1F2', 'profile_sidebar_border_color': 'C0DEED', 'profile_sidebar_fill_color': 'DDEEF6', 'profile_text_color': '333333', 'profile_use_background_image': True, 'has_extended_profile': True, 'default_profile': True, 'default_profile_image': False, 'following': False, 'follow_request_sent': False, 'notifications': False, 'translator_type': 'none'}, id=885898161381937152, id_str='885898161381937152', name='Diversity Designs™️', screen_name='Busylifeandme', location='Rotherham, England', description='#WOW and #Creativebiz award winner. Running mum and support team Dad on a mission to promote inspiring/empowering images of everyone who runs.', url='https://t.co/k9WnDZcioY', entities={'url': {'urls': [{'url': 'https://t.co/k9WnDZcioY', 'expanded_url': 'http://busy-life.co.uk', 'display_url': 'busy-life.co.uk', 'indices': [0, 23]}]}, 'description': {'urls': []}}, protected=False, followers_count=613, friends_count=802, listed_count=2, created_at=datetime.datetime(2017, 7, 14, 16, 25, 55), favourites_count=10023, utc_offset=None, time_zone=None, geo_enabled=True, verified=False, statuses_count=2220, lang=None, contributors_enabled=False, is_translator=False, is_translation_enabled=False, profile_background_color='F5F8FA', profile_background_image_url=None, profile_background_image_url_https=None, profile_background_tile=False, profile_image_url='http://pbs.twimg.com/profile_images/1172462877233602560/nws5oDz9_normal.jpg', profile_image_url_https='https://pbs.twimg.com/profile_images/1172462877233602560/nws5oDz9_normal.jpg', profile_banner_url='https://pbs.twimg.com/profile_banners/885898161381937152/1565693731', profile_link_color='1DA1F2', profile_sidebar_border_color='C0DEED', profile_sidebar_fill_color='DDEEF6', profile_text_color='333333', profile_use_background_image=True, has_extended_profile=True, default_profile=True, default_profile_image=False, following=False, follow_request_sent=False, notifications=False, translator_type='none'), geo=None, coordinates=None, place=None, contributors=None, retweeted_status=Status(_api=<tweepy.api.API object at 0x7ff5219df978>, _json={'created_at': 'Sat Sep 14 07:40:25 +0000 2019', 'id': 1172777103718309889, 'id_str': '1172777103718309889', 'text': '🗣️This weekend is the last day to get our range of premium nylon braided charging cables for just £3.99+p&amp;p. 🗣️\\nLau… https://t.co/uN3fcQ8Hns', 'truncated': True, 'entities': {'hashtags': [], 'symbols': [], 'user_mentions': [], 'urls': [{'url': 'https://t.co/uN3fcQ8Hns', 'expanded_url': 'https://twitter.com/i/web/status/1172777103718309889', 'display_url': 'twitter.com/i/web/status/1…', 'indices': [121, 144]}]}, 'metadata': {'iso_language_code': 'en', 'result_type': 'recent'}, 'source': '<a href=\"http://twitter.com/download/android\" rel=\"nofollow\">Twitter for Android</a>', 'in_reply_to_status_id': None, 'in_reply_to_status_id_str': None, 'in_reply_to_user_id': None, 'in_reply_to_user_id_str': None, 'in_reply_to_screen_name': None, 'user': {'id': 1005839992965431296, 'id_str': '1005839992965431296', 'name': 'subbytech', 'screen_name': 'subbytech', 'location': 'Northern Ireland', 'description': 'Helping keep you powered up all day. Stop running out of battery, free yourself from the wall socket! These are not available in any shops 😍 🔋', 'url': 'https://t.co/gllDdRlNWW', 'entities': {'url': {'urls': [{'url': 'https://t.co/gllDdRlNWW', 'expanded_url': 'http://www.subbytech.com', 'display_url': 'subbytech.com', 'indices': [0, 23]}]}, 'description': {'urls': []}}, 'protected': False, 'followers_count': 1807, 'friends_count': 1396, 'listed_count': 8, 'created_at': 'Sun Jun 10 15:51:56 +0000 2018', 'favourites_count': 2380, 'utc_offset': None, 'time_zone': None, 'geo_enabled': False, 'verified': False, 'statuses_count': 4294, 'lang': None, 'contributors_enabled': False, 'is_translator': False, 'is_translation_enabled': False, 'profile_background_color': '000000', 'profile_background_image_url': 'http://abs.twimg.com/images/themes/theme1/bg.png', 'profile_background_image_url_https': 'https://abs.twimg.com/images/themes/theme1/bg.png', 'profile_background_tile': False, 'profile_image_url': 'http://pbs.twimg.com/profile_images/1139825245576204288/jKbb7MNo_normal.png', 'profile_image_url_https': 'https://pbs.twimg.com/profile_images/1139825245576204288/jKbb7MNo_normal.png', 'profile_banner_url': 'https://pbs.twimg.com/profile_banners/1005839992965431296/1567849196', 'profile_link_color': '1B95E0', 'profile_sidebar_border_color': '000000', 'profile_sidebar_fill_color': '000000', 'profile_text_color': '000000', 'profile_use_background_image': False, 'has_extended_profile': True, 'default_profile': False, 'default_profile_image': False, 'following': False, 'follow_request_sent': False, 'notifications': False, 'translator_type': 'none'}, 'geo': None, 'coordinates': None, 'place': None, 'contributors': None, 'is_quote_status': False, 'retweet_count': 2, 'favorite_count': 2, 'favorited': False, 'retweeted': False, 'possibly_sensitive': False, 'lang': 'en'}, created_at=datetime.datetime(2019, 9, 14, 7, 40, 25), id=1172777103718309889, id_str='1172777103718309889', text='🗣️This weekend is the last day to get our range of premium nylon braided charging cables for just £3.99+p&amp;p. 🗣️\\nLau… https://t.co/uN3fcQ8Hns', truncated=True, entities={'hashtags': [], 'symbols': [], 'user_mentions': [], 'urls': [{'url': 'https://t.co/uN3fcQ8Hns', 'expanded_url': 'https://twitter.com/i/web/status/1172777103718309889', 'display_url': 'twitter.com/i/web/status/1…', 'indices': [121, 144]}]}, metadata={'iso_language_code': 'en', 'result_type': 'recent'}, source='Twitter for Android', source_url='http://twitter.com/download/android', in_reply_to_status_id=None, in_reply_to_status_id_str=None, in_reply_to_user_id=None, in_reply_to_user_id_str=None, in_reply_to_screen_name=None, author=User(_api=<tweepy.api.API object at 0x7ff5219df978>, _json={'id': 1005839992965431296, 'id_str': '1005839992965431296', 'name': 'subbytech', 'screen_name': 'subbytech', 'location': 'Northern Ireland', 'description': 'Helping keep you powered up all day. Stop running out of battery, free yourself from the wall socket! These are not available in any shops 😍 🔋', 'url': 'https://t.co/gllDdRlNWW', 'entities': {'url': {'urls': [{'url': 'https://t.co/gllDdRlNWW', 'expanded_url': 'http://www.subbytech.com', 'display_url': 'subbytech.com', 'indices': [0, 23]}]}, 'description': {'urls': []}}, 'protected': False, 'followers_count': 1807, 'friends_count': 1396, 'listed_count': 8, 'created_at': 'Sun Jun 10 15:51:56 +0000 2018', 'favourites_count': 2380, 'utc_offset': None, 'time_zone': None, 'geo_enabled': False, 'verified': False, 'statuses_count': 4294, 'lang': None, 'contributors_enabled': False, 'is_translator': False, 'is_translation_enabled': False, 'profile_background_color': '000000', 'profile_background_image_url': 'http://abs.twimg.com/images/themes/theme1/bg.png', 'profile_background_image_url_https': 'https://abs.twimg.com/images/themes/theme1/bg.png', 'profile_background_tile': False, 'profile_image_url': 'http://pbs.twimg.com/profile_images/1139825245576204288/jKbb7MNo_normal.png', 'profile_image_url_https': 'https://pbs.twimg.com/profile_images/1139825245576204288/jKbb7MNo_normal.png', 'profile_banner_url': 'https://pbs.twimg.com/profile_banners/1005839992965431296/1567849196', 'profile_link_color': '1B95E0', 'profile_sidebar_border_color': '000000', 'profile_sidebar_fill_color': '000000', 'profile_text_color': '000000', 'profile_use_background_image': False, 'has_extended_profile': True, 'default_profile': False, 'default_profile_image': False, 'following': False, 'follow_request_sent': False, 'notifications': False, 'translator_type': 'none'}, id=1005839992965431296, id_str='1005839992965431296', name='subbytech', screen_name='subbytech', location='Northern Ireland', description='Helping keep you powered up all day. Stop running out of battery, free yourself from the wall socket! These are not available in any shops 😍 🔋', url='https://t.co/gllDdRlNWW', entities={'url': {'urls': [{'url': 'https://t.co/gllDdRlNWW', 'expanded_url': 'http://www.subbytech.com', 'display_url': 'subbytech.com', 'indices': [0, 23]}]}, 'description': {'urls': []}}, protected=False, followers_count=1807, friends_count=1396, listed_count=8, created_at=datetime.datetime(2018, 6, 10, 15, 51, 56), favourites_count=2380, utc_offset=None, time_zone=None, geo_enabled=False, verified=False, statuses_count=4294, lang=None, contributors_enabled=False, is_translator=False, is_translation_enabled=False, profile_background_color='000000', profile_background_image_url='http://abs.twimg.com/images/themes/theme1/bg.png', profile_background_image_url_https='https://abs.twimg.com/images/themes/theme1/bg.png', profile_background_tile=False, profile_image_url='http://pbs.twimg.com/profile_images/1139825245576204288/jKbb7MNo_normal.png', profile_image_url_https='https://pbs.twimg.com/profile_images/1139825245576204288/jKbb7MNo_normal.png', profile_banner_url='https://pbs.twimg.com/profile_banners/1005839992965431296/1567849196', profile_link_color='1B95E0', profile_sidebar_border_color='000000', profile_sidebar_fill_color='000000', profile_text_color='000000', profile_use_background_image=False, has_extended_profile=True, default_profile=False, default_profile_image=False, following=False, follow_request_sent=False, notifications=False, translator_type='none'), user=User(_api=<tweepy.api.API object at 0x7ff5219df978>, _json={'id': 1005839992965431296, 'id_str': '1005839992965431296', 'name': 'subbytech', 'screen_name': 'subbytech', 'location': 'Northern Ireland', 'description': 'Helping keep you powered up all day. Stop running out of battery, free yourself from the wall socket! These are not available in any shops 😍 🔋', 'url': 'https://t.co/gllDdRlNWW', 'entities': {'url': {'urls': [{'url': 'https://t.co/gllDdRlNWW', 'expanded_url': 'http://www.subbytech.com', 'display_url': 'subbytech.com', 'indices': [0, 23]}]}, 'description': {'urls': []}}, 'protected': False, 'followers_count': 1807, 'friends_count': 1396, 'listed_count': 8, 'created_at': 'Sun Jun 10 15:51:56 +0000 2018', 'favourites_count': 2380, 'utc_offset': None, 'time_zone': None, 'geo_enabled': False, 'verified': False, 'statuses_count': 4294, 'lang': None, 'contributors_enabled': False, 'is_translator': False, 'is_translation_enabled': False, 'profile_background_color': '000000', 'profile_background_image_url': 'http://abs.twimg.com/images/themes/theme1/bg.png', 'profile_background_image_url_https': 'https://abs.twimg.com/images/themes/theme1/bg.png', 'profile_background_tile': False, 'profile_image_url': 'http://pbs.twimg.com/profile_images/1139825245576204288/jKbb7MNo_normal.png', 'profile_image_url_https': 'https://pbs.twimg.com/profile_images/1139825245576204288/jKbb7MNo_normal.png', 'profile_banner_url': 'https://pbs.twimg.com/profile_banners/1005839992965431296/1567849196', 'profile_link_color': '1B95E0', 'profile_sidebar_border_color': '000000', 'profile_sidebar_fill_color': '000000', 'profile_text_color': '000000', 'profile_use_background_image': False, 'has_extended_profile': True, 'default_profile': False, 'default_profile_image': False, 'following': False, 'follow_request_sent': False, 'notifications': False, 'translator_type': 'none'}, id=1005839992965431296, id_str='1005839992965431296', name='subbytech', screen_name='subbytech', location='Northern Ireland', description='Helping keep you powered up all day. Stop running out of battery, free yourself from the wall socket! These are not available in any shops 😍 🔋', url='https://t.co/gllDdRlNWW', entities={'url': {'urls': [{'url': 'https://t.co/gllDdRlNWW', 'expanded_url': 'http://www.subbytech.com', 'display_url': 'subbytech.com', 'indices': [0, 23]}]}, 'description': {'urls': []}}, protected=False, followers_count=1807, friends_count=1396, listed_count=8, created_at=datetime.datetime(2018, 6, 10, 15, 51, 56), favourites_count=2380, utc_offset=None, time_zone=None, geo_enabled=False, verified=False, statuses_count=4294, lang=None, contributors_enabled=False, is_translator=False, is_translation_enabled=False, profile_background_color='000000', profile_background_image_url='http://abs.twimg.com/images/themes/theme1/bg.png', profile_background_image_url_https='https://abs.twimg.com/images/themes/theme1/bg.png', profile_background_tile=False, profile_image_url='http://pbs.twimg.com/profile_images/1139825245576204288/jKbb7MNo_normal.png', profile_image_url_https='https://pbs.twimg.com/profile_images/1139825245576204288/jKbb7MNo_normal.png', profile_banner_url='https://pbs.twimg.com/profile_banners/1005839992965431296/1567849196', profile_link_color='1B95E0', profile_sidebar_border_color='000000', profile_sidebar_fill_color='000000', profile_text_color='000000', profile_use_background_image=False, has_extended_profile=True, default_profile=False, default_profile_image=False, following=False, follow_request_sent=False, notifications=False, translator_type='none'), geo=None, coordinates=None, place=None, contributors=None, is_quote_status=False, retweet_count=2, favorite_count=2, favorited=False, retweeted=False, possibly_sensitive=False, lang='en'), is_quote_status=False, retweet_count=2, favorite_count=0, favorited=False, retweeted=False, lang='en')"
            ]
          },
          "metadata": {
            "tags": []
          },
          "execution_count": 40
        }
      ]
    },
    {
      "cell_type": "code",
      "metadata": {
        "id": "6HjfVLTUAzoo",
        "colab_type": "code",
        "colab": {
          "base_uri": "https://localhost:8080/",
          "height": 853
        },
        "outputId": "d355e004-d8c9-4e37-fe92-faefc0cf334c"
      },
      "source": [
        "for tw in sam_tweets:\n",
        "  print(tw.text)\n",
        "  analysis= tb.TextBlob( tw.text)\n",
        "  print(\"\\t\",analysis.sentiment)"
      ],
      "execution_count": 43,
      "outputs": [
        {
          "output_type": "stream",
          "text": [
            "Apko #Samsung k mobile me kisi dosry Mobile ka Charger nhee lagana chahye tha...😅 https://t.co/c29qazcMWr\n",
            "\t Sentiment(polarity=0.0, subjectivity=0.0)\n",
            "RT @subbytech: 🗣️This weekend is the last day to get our range of premium nylon braided charging cables for just £3.99+p&amp;p. 🗣️\n",
            "Launch price…\n",
            "\t Sentiment(polarity=0.0, subjectivity=0.06666666666666667)\n",
            "RT @harmonyprotocol: Harmony to Scale @Samsung Wallet-Supported Blockchain Health Data App \n",
            "\n",
            "Meet @Lympo_io: \n",
            "\n",
            "⭐️Preferred fitness Dapp on…\n",
            "\t Sentiment(polarity=0.0, subjectivity=0.0)\n",
            "@klaytn_official #Samsung #Klaytn #GalaxyNote10 #blockchain #KLAY\n",
            "\t Sentiment(polarity=0.0, subjectivity=0.0)\n",
            "RT @Jabueze: #phonephotography #Samsung @googlesnapseed #lagos #photooftheday #photography https://t.co/tWrMncsDGj\n",
            "\t Sentiment(polarity=0.0, subjectivity=0.0)\n",
            "RT @raddevus: New Computer:\n",
            "#GIGABYTE B450M DS3H AM4 Motherboard\n",
            "#AMD AMD RYZEN 5 2600X WRAITHS CPU (6Core/12 thread)\n",
            "16GB 2X8GB DDR4 3200…\n",
            "\t Sentiment(polarity=0.13636363636363635, subjectivity=0.45454545454545453)\n",
            "The best Samsung Galaxy Note 10 deals and plans in September 2019 https://t.co/7fM32iMR1F\n",
            "\n",
            "#technology #Samsung #GalaxyNote10\n",
            "\t Sentiment(polarity=1.0, subjectivity=0.3)\n",
            "RT @raddevus: New Computer:\n",
            "#GIGABYTE B450M DS3H AM4 Motherboard\n",
            "#AMD AMD RYZEN 5 2600X WRAITHS CPU (6Core/12 thread)\n",
            "16GB 2X8GB DDR4 3200…\n",
            "\t Sentiment(polarity=0.13636363636363635, subjectivity=0.45454545454545453)\n",
            "RT @BaNANAStoreTH: จองก่อนใคร! ที่บานาน่า SAMSUNG Galaxy A50s จองเพียง 500 บาท จากราคา 10,990.- (6+128GB)\n",
            "จองเลยคลิก&gt;&gt;&gt;https://t.co/4RlzlRK…\n",
            "\t Sentiment(polarity=0.0, subjectivity=0.0)\n",
            "RT @Hk3ToN: #Wallpapers  #Background #android #Samsung  #Google #abstractart #Abstract #walls #Free #MacBook #MacBookPro #iMac \n",
            "\n",
            "#iOS13 #de…\n",
            "\t Sentiment(polarity=0.4, subjectivity=0.8)\n",
            "First run with #strava connected to #samsung watch. Strava screwed the pooch a little...logged 1.5mi of a 5mi run 🤔… https://t.co/1gMNS07WZm\n",
            "\t Sentiment(polarity=0.25, subjectivity=0.3333333333333333)\n",
            "Epris ki taraf se Ap sabhi ko Hindi divas ki shubhkamna .\n",
            "#epris #eprisdynamics #hindidiwas #nation… https://t.co/hXfbXLQqtc\n",
            "\t Sentiment(polarity=0.0, subjectivity=0.0)\n",
            "#whirlpool #IFB #Samsung #PANASONIC #lg\n",
            "\t Sentiment(polarity=0.0, subjectivity=0.0)\n",
            "#phonephotography #Samsung @googlesnapseed #lagos #photooftheday #photography https://t.co/tWrMncsDGj\n",
            "\t Sentiment(polarity=0.0, subjectivity=0.0)\n",
            "RT @BaNANAStoreTH: จองก่อนใคร! ที่บานาน่า SAMSUNG Galaxy A50s จองเพียง 500 บาท จากราคา 10,990.- (6+128GB)\n",
            "จองเลยคลิก&gt;&gt;&gt;https://t.co/4RlzlRK…\n",
            "\t Sentiment(polarity=0.0, subjectivity=0.0)\n"
          ],
          "name": "stdout"
        }
      ]
    },
    {
      "cell_type": "code",
      "metadata": {
        "id": "eVq6rfHrBHbC",
        "colab_type": "code",
        "colab": {}
      },
      "source": [
        "user = api.get_user('PranjulGupta07')"
      ],
      "execution_count": 0,
      "outputs": []
    },
    {
      "cell_type": "code",
      "metadata": {
        "id": "3zf-pwF_DmGQ",
        "colab_type": "code",
        "colab": {
          "base_uri": "https://localhost:8080/",
          "height": 68
        },
        "outputId": "82d29825-fc4e-412e-ceb8-ffcb30095d2c"
      },
      "source": [
        "print(user.screen_name)\n",
        "print(user.followers_count)\n",
        "user.created_at"
      ],
      "execution_count": 26,
      "outputs": [
        {
          "output_type": "stream",
          "text": [
            "PranjulGupta07\n",
            "0\n"
          ],
          "name": "stdout"
        },
        {
          "output_type": "execute_result",
          "data": {
            "text/plain": [
              "datetime.datetime(2019, 9, 13, 19, 6, 40)"
            ]
          },
          "metadata": {
            "tags": []
          },
          "execution_count": 26
        }
      ]
    },
    {
      "cell_type": "code",
      "metadata": {
        "id": "9NpwPHC0H0Hy",
        "colab_type": "code",
        "colab": {}
      },
      "source": [
        ""
      ],
      "execution_count": 0,
      "outputs": []
    }
  ]
}